{
 "cells": [
  {
   "cell_type": "code",
   "execution_count": 9,
   "id": "0963fbd6",
   "metadata": {},
   "outputs": [
    {
     "name": "stdout",
     "output_type": "stream",
     "text": [
      "8\n"
     ]
    }
   ],
   "source": [
    "#1st question: Write a Python function to find the Max of three numbers.\n",
    "\n",
    "a=[4,3,8]\n",
    "print(max(a))\n"
   ]
  },
  {
   "cell_type": "code",
   "execution_count": 10,
   "id": "12781ef8",
   "metadata": {},
   "outputs": [
    {
     "name": "stdout",
     "output_type": "stream",
     "text": [
      "20\n"
     ]
    }
   ],
   "source": [
    "#2 : Write a Python function to sum all the numbers in a list.\n",
    "\n",
    "b=[8, 2, 3, 0, 7]\n",
    "print(sum(b))\n"
   ]
  },
  {
   "cell_type": "code",
   "execution_count": 11,
   "id": "f559a386",
   "metadata": {},
   "outputs": [
    {
     "name": "stdout",
     "output_type": "stream",
     "text": [
      "-336\n"
     ]
    }
   ],
   "source": [
    "#3 Write a Python function to multiply all the numbers in a list.\n",
    "\n",
    "c=[8, 2, 3, -1, 7]\n",
    "p=1\n",
    "for i in c:\n",
    "    p=p*i\n",
    "print(p)"
   ]
  },
  {
   "cell_type": "code",
   "execution_count": 14,
   "id": "43079e66",
   "metadata": {},
   "outputs": [
    {
     "name": "stdout",
     "output_type": "stream",
     "text": [
      "dcba4321\n"
     ]
    }
   ],
   "source": [
    "#4 Write a Python program to reverse a string.\n",
    "k=\"1234abcd\"[::-1]\n",
    "print(k)"
   ]
  },
  {
   "cell_type": "code",
   "execution_count": 20,
   "id": "a6027372",
   "metadata": {},
   "outputs": [
    {
     "name": "stdout",
     "output_type": "stream",
     "text": [
      "factorial numbers :  120\n"
     ]
    }
   ],
   "source": [
    "#5  Write a Python function to calculate the factorial of a number (a non-negative integer). The function accepts the number as an argument.\n",
    "def factorial(n):\n",
    "    return 1 if (n==1 or n==0) else n * factorial(n - 1);\n",
    "print(\"factorial numbers : \",factorial(5))"
   ]
  },
  {
   "cell_type": "code",
   "execution_count": 15,
   "id": "8cfc87f4",
   "metadata": {},
   "outputs": [
    {
     "name": "stdout",
     "output_type": "stream",
     "text": [
      "3\n",
      "True\n"
     ]
    }
   ],
   "source": [
    "#6 Write a Python function to check whether a number falls in a given range.\n",
    "number=int(input())\n",
    "if number in range(2,6):\n",
    "    print(\"True\")\n",
    "else:\n",
    "    print(\"False\")"
   ]
  },
  {
   "cell_type": "code",
   "execution_count": 18,
   "id": "b5c98762",
   "metadata": {},
   "outputs": [
    {
     "name": "stdout",
     "output_type": "stream",
     "text": [
      "list of even numbers in given list\n",
      "2\n",
      "4\n",
      "6\n",
      "8\n",
      "10\n"
     ]
    }
   ],
   "source": [
    "#7 Write a Python program to print the even numbers from a given list.\n",
    "list=[1,2,3,4,5,6,7,8,9,10]\n",
    "print(\"list of even numbers in given list\")\n",
    "for i in range(len(list)):\n",
    "    if list[i]%2==0:\n",
    "        print(list[i])"
   ]
  },
  {
   "cell_type": "code",
   "execution_count": 8,
   "id": "4a26d44c",
   "metadata": {},
   "outputs": [],
   "source": []
  },
  {
   "cell_type": "code",
   "execution_count": null,
   "id": "7f482efe",
   "metadata": {},
   "outputs": [],
   "source": []
  }
 ],
 "metadata": {
  "kernelspec": {
   "display_name": "Python 3",
   "language": "python",
   "name": "python3"
  },
  "language_info": {
   "codemirror_mode": {
    "name": "ipython",
    "version": 3
   },
   "file_extension": ".py",
   "mimetype": "text/x-python",
   "name": "python",
   "nbconvert_exporter": "python",
   "pygments_lexer": "ipython3",
   "version": "3.8.8"
  }
 },
 "nbformat": 4,
 "nbformat_minor": 5
}
